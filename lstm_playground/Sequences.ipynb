{
 "cells": [
  {
   "cell_type": "markdown",
   "metadata": {},
   "source": [
    "# Sequence experiments with LSTM\n",
    "Following the experiments declared in https://machinelearningmastery.com/how-to-use-an-encoder-decoder-lstm-to-echo-sequences-of-random-integers/\n",
    "\n",
    "First, we want to generate a random sequence of integers (range (0,100)), which will be one-hot encoded (because we interpret this problem as classification, not regression)"
   ]
  },
  {
   "cell_type": "code",
   "execution_count": 1,
   "metadata": {},
   "outputs": [
    {
     "name": "stderr",
     "output_type": "stream",
     "text": [
      "/Users/nicom/anaconda/lib/python3.6/site-packages/h5py/__init__.py:34: FutureWarning: Conversion of the second argument of issubdtype from `float` to `np.floating` is deprecated. In future, it will be treated as `np.float64 == np.dtype(float).type`.\n",
      "  from ._conv import register_converters as _register_converters\n",
      "Using TensorFlow backend.\n"
     ]
    }
   ],
   "source": [
    "import numpy as np\n",
    "import keras\n",
    "import pandas as pd"
   ]
  },
  {
   "cell_type": "code",
   "execution_count": 69,
   "metadata": {},
   "outputs": [
    {
     "name": "stdout",
     "output_type": "stream",
     "text": [
      "(20, 6, 100) (20, 6, 100)\n"
     ]
    }
   ],
   "source": [
    "UPPER_LIMIT = 100\n",
    "\n",
    "def generate_sequence(length=25):\n",
    "    return np.array([np.random.randint(0, UPPER_LIMIT-1) for _ in range(length)])\n",
    "\n",
    "def onehot_encode(sequence, dim=UPPER_LIMIT):\n",
    "    encodings = np.zeros((len(sequence), dim))\n",
    "    encodings[np.arange(len(sequence)), sequence] = 1\n",
    "    return encodings\n",
    "\n",
    "def onehot_decode(sequence, dim=UPPER_LIMIT):\n",
    "    return np.argmax(sequence, axis=1)\n",
    "\n",
    "def generate_subsequences(sequence, n_in, n_out):\n",
    "    if n_out > n_in:\n",
    "        raise Exception(\"Wrong sizes.\")\n",
    "    i_subseq = []\n",
    "    o_subseq = []\n",
    "    for i in range(len(sequence) - n_in + 1):\n",
    "        i_subseq.append(sequence[i:i+n_in])\n",
    "        o_subseq.append(sequence[i:i+n_out])\n",
    "    return np.array(i_subseq), np.array(o_subseq)\n",
    "\n",
    "def get_data(length=25, n_in=5, n_out=5):\n",
    "    seq = generate_sequence(length)\n",
    "    seq = onehot_encode(seq)\n",
    "    i_s, o_s = generate_subsequences(seq, n_in, n_out)\n",
    "    return i_s, o_s\n",
    "    \n",
    "_x, _y = get_data(25, 6, 6)\n",
    "print(_x.shape, _y.shape)"
   ]
  },
  {
   "cell_type": "markdown",
   "metadata": {},
   "source": [
    "## Whole sequence echo\n",
    "Now that we have our sequence generator complete, we want an LSTM network to echo the complete sequence"
   ]
  },
  {
   "cell_type": "code",
   "execution_count": 86,
   "metadata": {},
   "outputs": [],
   "source": [
    "from keras import Sequential\n",
    "from keras.layers import LSTM, TimeDistributed, Dense, RepeatVector\n",
    "\n",
    "# Define keras network\n",
    "model = Sequential()\n",
    "model.add(LSTM(16, batch_input_shape=(5, 6, 100), return_sequences=True, stateful=True, use_bias=True)) # 20 memory units\n",
    "model.add(TimeDistributed(Dense(100, activation='softmax')))\n",
    "model.compile(loss='categorical_crossentropy', optimizer='adam', metrics=['acc'])"
   ]
  },
  {
   "cell_type": "markdown",
   "metadata": {},
   "source": [
    "Now we can start training the network with random sequences. To avoid overfitting, we generate different sequences at each epoch."
   ]
  },
  {
   "cell_type": "code",
   "execution_count": 82,
   "metadata": {
    "scrolled": true
   },
   "outputs": [
    {
     "name": "stdout",
     "output_type": "stream",
     "text": [
      "Epoch 1/1\n",
      " - 0s - loss: 1.7123 - acc: 1.0000\n"
     ]
    }
   ],
   "source": [
    "EPOCHS = 500\n",
    "# train LSTM\n",
    "for epoch in range(EPOCHS):\n",
    "    # generate new random sequence\n",
    "    X,y = get_data(25, 6, 6)\n",
    "    # fit model for one epoch on this sequence\n",
    "    model.fit(X, y, epochs=1, batch_size=5, verbose=int(epoch==EPOCHS-1)*2, shuffle=False)\n",
    "    model.reset_states()"
   ]
  },
  {
   "cell_type": "markdown",
   "metadata": {},
   "source": [
    "Now we can test the trained network"
   ]
  },
  {
   "cell_type": "code",
   "execution_count": 83,
   "metadata": {},
   "outputs": [
    {
     "name": "stdout",
     "output_type": "stream",
     "text": [
      "Expected: [71  2 83 21 61 12] Predicted [71  2 83 48 61 12]\n",
      "Expected: [ 2 83 21 61 12 39] Predicted [ 2 83 48 61 12 39]\n",
      "Expected: [83 21 61 12 39 31] Predicted [83 21 61 12 39 31]\n",
      "Expected: [21 61 12 39 31 25] Predicted [21 61 12 39 31 25]\n",
      "Expected: [61 12 39 31 25 82] Predicted [61 12 39 31 25 82]\n",
      "Expected: [12 39 31 25 82  5] Predicted [12 39 31 25 82  5]\n",
      "Expected: [39 31 25 82  5 90] Predicted [39 31 25 82  5 90]\n",
      "Expected: [31 25 82  5 90 50] Predicted [31 25 82  5 90 50]\n",
      "Expected: [25 82  5 90 50 73] Predicted [25 82  5 90 50 73]\n",
      "Expected: [82  5 90 50 73 17] Predicted [82  5 90 50 73 17]\n",
      "Expected: [ 5 90 50 73 17 91] Predicted [ 5 90 50 73 17 91]\n",
      "Expected: [90 50 73 17 91  8] Predicted [90 50 73 17 91  8]\n",
      "Expected: [50 73 17 91  8 98] Predicted [50 73 17 91  8  2]\n",
      "Expected: [73 17 91  8 98 74] Predicted [73 17 91  8  2 74]\n",
      "Expected: [17 91  8 98 74 57] Predicted [17 91  8  2 74 57]\n",
      "Expected: [91  8 98 74 57 33] Predicted [91  8  2 74 57 33]\n",
      "Expected: [ 8 98 74 57 33 30] Predicted [ 8  2 74 57 33 30]\n",
      "Expected: [98 74 57 33 30 62] Predicted [ 2 74 57 33 30 62]\n",
      "Expected: [74 57 33 30 62 39] Predicted [74 57 33 30 62 39]\n",
      "Expected: [57 33 30 62 39  0] Predicted [57 33 30 62 39  0]\n"
     ]
    }
   ],
   "source": [
    "# evaluate LSTM\n",
    "X,y = get_data(25, 6, 6)\n",
    "yhat = model.predict(X, batch_size=5, verbose=0)\n",
    "# decode all pairs\n",
    "for i in range(len(X)):\n",
    "    print('Expected:', onehot_decode(y[i]), 'Predicted', onehot_decode(yhat[i]))"
   ]
  },
  {
   "cell_type": "code",
   "execution_count": 84,
   "metadata": {
    "scrolled": true
   },
   "outputs": [
    {
     "name": "stdout",
     "output_type": "stream",
     "text": [
      "(100, 64)\n",
      "(16, 64)\n",
      "(64,)\n"
     ]
    }
   ],
   "source": [
    "print(model.layers[0].get_weights()[0].shape) # Kernel (used on inputs)\n",
    "print(model.layers[0].get_weights()[1].shape) # Recurrent kernel (used on internal state)\n",
    "print(model.layers[0].get_weights()[2].shape) # Bias"
   ]
  },
  {
   "cell_type": "markdown",
   "metadata": {},
   "source": [
    "The weights have a 2nd dimension which is 4 times the memory size, since it includes in a single matrix: \n",
    "- forget\n",
    "- input\n",
    "- cell\n",
    "- output"
   ]
  },
  {
   "cell_type": "markdown",
   "metadata": {},
   "source": [
    "## Seq2Seq\n",
    "This time we want an output sequence of arbitrary length. To do this, we cannot rely on the LSTM predicting a single value at each timestep, while we need to create an encoder-decoder structure."
   ]
  },
  {
   "cell_type": "code",
   "execution_count": 92,
   "metadata": {},
   "outputs": [],
   "source": [
    "model = Sequential()\n",
    "model.add(LSTM(150, batch_input_shape=(21, 5, 100), stateful=True))\n",
    "model.add(RepeatVector(2))\n",
    "model.add(LSTM(150, return_sequences=True, stateful=True))\n",
    "model.add(TimeDistributed(Dense(100, activation='softmax')))\n",
    "model.compile(loss='categorical_crossentropy', optimizer='adam', metrics=['acc'])"
   ]
  },
  {
   "cell_type": "code",
   "execution_count": 93,
   "metadata": {},
   "outputs": [
    {
     "name": "stdout",
     "output_type": "stream",
     "text": [
      "Epoch 1/1\n",
      " - 0s - loss: 3.8996 - acc: 0.1667\n",
      "Epoch 1/1\n",
      " - 0s - loss: 3.0983 - acc: 0.3571\n",
      "Epoch 1/1\n",
      " - 0s - loss: 2.6107 - acc: 0.4762\n",
      "Epoch 1/1\n",
      " - 0s - loss: 1.8789 - acc: 0.5000\n",
      "Epoch 1/1\n",
      " - 0s - loss: 1.9074 - acc: 0.5000\n",
      "Epoch 1/1\n",
      " - 0s - loss: 2.0884 - acc: 0.5238\n",
      "Epoch 1/1\n",
      " - 0s - loss: 1.6594 - acc: 0.5714\n",
      "Epoch 1/1\n",
      " - 0s - loss: 1.7970 - acc: 0.5714\n",
      "Epoch 1/1\n",
      " - 0s - loss: 1.3525 - acc: 0.5000\n",
      "Epoch 1/1\n",
      " - 0s - loss: 1.3176 - acc: 0.6429\n",
      "Epoch 1/1\n",
      " - 0s - loss: 1.1246 - acc: 0.6429\n",
      "Epoch 1/1\n",
      " - 0s - loss: 0.9714 - acc: 0.6429\n",
      "Epoch 1/1\n",
      " - 0s - loss: 1.1233 - acc: 0.6190\n",
      "Epoch 1/1\n",
      " - 0s - loss: 0.8686 - acc: 0.7619\n",
      "Epoch 1/1\n",
      " - 0s - loss: 0.3903 - acc: 0.9048\n",
      "Epoch 1/1\n",
      " - 0s - loss: 0.5007 - acc: 0.9048\n",
      "Epoch 1/1\n",
      " - 0s - loss: 0.3501 - acc: 0.9048\n",
      "Epoch 1/1\n",
      " - 0s - loss: 0.3696 - acc: 0.9762\n",
      "Epoch 1/1\n",
      " - 0s - loss: 0.3066 - acc: 0.9286\n",
      "Epoch 1/1\n",
      " - 0s - loss: 0.3368 - acc: 0.9286\n"
     ]
    }
   ],
   "source": [
    "EPOCHS = 5000\n",
    "# train LSTM\n",
    "for epoch in range(EPOCHS):\n",
    "    # generate new random sequence\n",
    "    X,y = get_data(25, 5, 2)\n",
    "    # fit model for one epoch on this sequence\n",
    "    model.fit(X, y, epochs=1, batch_size=21, verbose=int((epoch+1) % 250 == 0)*2, shuffle=False)\n",
    "    model.reset_states()"
   ]
  },
  {
   "cell_type": "code",
   "execution_count": 94,
   "metadata": {},
   "outputs": [
    {
     "name": "stdout",
     "output_type": "stream",
     "text": [
      "Expected: [29 90] Predicted [29 90]\n",
      "Expected: [90 60] Predicted [90 60]\n",
      "Expected: [60 82] Predicted [82 60]\n",
      "Expected: [82 79] Predicted [82 79]\n",
      "Expected: [79 62] Predicted [79 62]\n",
      "Expected: [62 44] Predicted [62 44]\n",
      "Expected: [44 40] Predicted [44 40]\n",
      "Expected: [40 44] Predicted [40 44]\n",
      "Expected: [44 13] Predicted [44 13]\n",
      "Expected: [13 48] Predicted [13 48]\n",
      "Expected: [48 29] Predicted [48 29]\n",
      "Expected: [29 15] Predicted [29 15]\n",
      "Expected: [15 24] Predicted [15 24]\n",
      "Expected: [24 20] Predicted [24 20]\n",
      "Expected: [20 73] Predicted [20 73]\n",
      "Expected: [73 37] Predicted [73 37]\n",
      "Expected: [37  8] Predicted [37  8]\n",
      "Expected: [ 8 69] Predicted [ 8 69]\n",
      "Expected: [69 25] Predicted [69 25]\n",
      "Expected: [25 38] Predicted [25 38]\n",
      "Expected: [38 15] Predicted [38 15]\n"
     ]
    }
   ],
   "source": [
    "# evaluate LSTM\n",
    "X,y = get_data(25, 5, 2)\n",
    "yhat = model.predict(X, batch_size=21, verbose=0)\n",
    "# decode all pairs\n",
    "for i in range(len(X)):\n",
    "    print('Expected:', onehot_decode(y[i]), 'Predicted', onehot_decode(yhat[i]))"
   ]
  },
  {
   "cell_type": "markdown",
   "metadata": {},
   "source": [
    "## Longer sequences?"
   ]
  },
  {
   "cell_type": "code",
   "execution_count": 96,
   "metadata": {},
   "outputs": [
    {
     "data": {
      "application/vnd.jupyter.widget-view+json": {
       "model_id": "f93e2f9b92ba4191b6d856b188a37111",
       "version_major": 2,
       "version_minor": 0
      },
      "text/html": [
       "<p>Failed to display Jupyter Widget of type <code>HBox</code>.</p>\n",
       "<p>\n",
       "  If you're reading this message in Jupyter Notebook or JupyterLab, it may mean\n",
       "  that the widgets JavaScript is still loading. If this message persists, it\n",
       "  likely means that the widgets JavaScript library is either not installed or\n",
       "  not enabled. See the <a href=\"https://ipywidgets.readthedocs.io/en/stable/user_install.html\">Jupyter\n",
       "  Widgets Documentation</a> for setup instructions.\n",
       "</p>\n",
       "<p>\n",
       "  If you're reading this message in another notebook frontend (for example, a static\n",
       "  rendering on GitHub or <a href=\"https://nbviewer.jupyter.org/\">NBViewer</a>),\n",
       "  it may mean that your frontend doesn't currently support widgets.\n",
       "</p>\n"
      ],
      "text/plain": [
       "HBox(children=(IntProgress(value=0, max=5000), HTML(value='')))"
      ]
     },
     "metadata": {},
     "output_type": "display_data"
    },
    {
     "name": "stdout",
     "output_type": "stream",
     "text": [
      "Epoch 1/1\n",
      " - 0s - loss: 3.6320 - acc: 0.1786\n",
      "Epoch 1/1\n",
      " - 0s - loss: 2.9323 - acc: 0.2857\n",
      "Epoch 1/1\n",
      " - 0s - loss: 2.4213 - acc: 0.2976\n",
      "Epoch 1/1\n",
      " - 0s - loss: 2.4369 - acc: 0.3095\n",
      "Epoch 1/1\n",
      " - 0s - loss: 2.1717 - acc: 0.2976\n",
      "Epoch 1/1\n",
      " - 0s - loss: 2.0979 - acc: 0.3095\n",
      "Epoch 1/1\n",
      " - 0s - loss: 2.1899 - acc: 0.3929\n",
      "Epoch 1/1\n",
      " - 0s - loss: 2.0553 - acc: 0.2976\n",
      "Epoch 1/1\n",
      " - 0s - loss: 2.0192 - acc: 0.2619\n",
      "Epoch 1/1\n",
      " - 0s - loss: 1.8303 - acc: 0.3214\n",
      "Epoch 1/1\n",
      " - 0s - loss: 1.8980 - acc: 0.3214\n",
      "Epoch 1/1\n",
      " - 0s - loss: 1.7297 - acc: 0.2619\n",
      "Epoch 1/1\n",
      " - 0s - loss: 1.6563 - acc: 0.3571\n",
      "Epoch 1/1\n",
      " - 0s - loss: 1.6828 - acc: 0.2857\n",
      "Epoch 1/1\n",
      " - 0s - loss: 1.6940 - acc: 0.4167\n",
      "Epoch 1/1\n",
      " - 0s - loss: 4.2849 - acc: 0.1905\n",
      "Epoch 1/1\n",
      " - 0s - loss: 3.7389 - acc: 0.2619\n",
      "Epoch 1/1\n",
      " - 0s - loss: 3.2624 - acc: 0.2976\n",
      "Epoch 1/1\n",
      " - 0s - loss: 3.2066 - acc: 0.3095\n",
      "Epoch 1/1\n",
      " - 0s - loss: 2.8951 - acc: 0.3929\n",
      "\n"
     ]
    }
   ],
   "source": [
    "from tqdm import tnrange\n",
    "\n",
    "LEN = 4\n",
    "MEM = 300\n",
    "\n",
    "model = Sequential()\n",
    "model.add(LSTM(MEM, batch_input_shape=(21, 5, 100), stateful=True))\n",
    "model.add(RepeatVector(LEN))\n",
    "model.add(LSTM(MEM, return_sequences=True, stateful=True))\n",
    "model.add(TimeDistributed(Dense(100, activation='softmax')))\n",
    "model.compile(loss='categorical_crossentropy', optimizer='adam', metrics=['acc'])\n",
    "\n",
    "EPOCHS = 5000\n",
    "# train LSTM\n",
    "for epoch in tnrange(EPOCHS):\n",
    "    # generate new random sequence\n",
    "    X,y = get_data(25, 5, LEN)\n",
    "    # fit model for one epoch on this sequence\n",
    "    model.fit(X, y, epochs=1, batch_size=21, verbose=int((epoch+1) % 250 == 0)*2, shuffle=False)\n",
    "    model.reset_states()"
   ]
  },
  {
   "cell_type": "code",
   "execution_count": 97,
   "metadata": {},
   "outputs": [
    {
     "name": "stdout",
     "output_type": "stream",
     "text": [
      "Expected: [35 66 12 21] Predicted [35 35 66 66]\n",
      "Expected: [66 12 21 97] Predicted [66 66 32 32]\n",
      "Expected: [12 21 97 74] Predicted [12 12 62  8]\n",
      "Expected: [21 97 74 15] Predicted [21 21 21 21]\n",
      "Expected: [97 74 15 47] Predicted [97 97 97 10]\n",
      "Expected: [74 15 47 37] Predicted [74 74 15 74]\n",
      "Expected: [15 47 37 90] Predicted [15 15 15 15]\n",
      "Expected: [47 37 90 24] Predicted [47 88 88 57]\n",
      "Expected: [37 90 24 92] Predicted [90 37 37 37]\n",
      "Expected: [90 24 92 43] Predicted [90 90 90 90]\n",
      "Expected: [24 92 43  9] Predicted [24 24 24 24]\n",
      "Expected: [92 43  9 89] Predicted [92 92 43 92]\n",
      "Expected: [43  9 89 92] Predicted [43 43 51 43]\n",
      "Expected: [ 9 89 92 89] Predicted [ 9  9 80  8]\n",
      "Expected: [89 92 89 70] Predicted [89 89 80 89]\n",
      "Expected: [92 89 70 67] Predicted [92 92 92 92]\n",
      "Expected: [89 70 67 19] Predicted [89 89 70 89]\n",
      "Expected: [70 67 19 18] Predicted [70 70 70 70]\n",
      "Expected: [67 19 18 34] Predicted [67 67 67 67]\n",
      "Expected: [19 18 34  3] Predicted [19 19 19 19]\n",
      "Expected: [18 34  3 72] Predicted [18 18 18 18]\n"
     ]
    }
   ],
   "source": [
    "# evaluate LSTM\n",
    "X,y = get_data(25, 5, 4)\n",
    "yhat = model.predict(X, batch_size=21, verbose=0)\n",
    "# decode all pairs\n",
    "for i in range(len(X)):\n",
    "    print('Expected:', onehot_decode(y[i]), 'Predicted', onehot_decode(yhat[i]))"
   ]
  },
  {
   "cell_type": "code",
   "execution_count": null,
   "metadata": {},
   "outputs": [],
   "source": []
  }
 ],
 "metadata": {
  "kernelspec": {
   "display_name": "Python 3",
   "language": "python",
   "name": "python3"
  },
  "language_info": {
   "codemirror_mode": {
    "name": "ipython",
    "version": 3
   },
   "file_extension": ".py",
   "mimetype": "text/x-python",
   "name": "python",
   "nbconvert_exporter": "python",
   "pygments_lexer": "ipython3",
   "version": "3.6.0"
  }
 },
 "nbformat": 4,
 "nbformat_minor": 2
}
