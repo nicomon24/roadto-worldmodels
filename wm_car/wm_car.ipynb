{
 "cells": [
  {
   "cell_type": "markdown",
   "metadata": {},
   "source": [
    "# Training a VAE in the car-race environment"
   ]
  },
  {
   "cell_type": "code",
   "execution_count": 4,
   "metadata": {},
   "outputs": [
    {
     "name": "stderr",
     "output_type": "stream",
     "text": [
      "/Users/nicom/anaconda/lib/python3.6/site-packages/h5py/__init__.py:34: FutureWarning: Conversion of the second argument of issubdtype from `float` to `np.floating` is deprecated. In future, it will be treated as `np.float64 == np.dtype(float).type`.\n",
      "  from ._conv import register_converters as _register_converters\n"
     ]
    }
   ],
   "source": [
    "import numpy as np\n",
    "import tensorflow as tf\n",
    "import gym\n",
    "import matplotlib.pyplot as plt\n",
    "from tqdm import tnrange"
   ]
  },
  {
   "cell_type": "markdown",
   "metadata": {},
   "source": [
    "## Dataset generation\n",
    "Perform a rollout of N=1000 games with a random policy"
   ]
  },
  {
   "cell_type": "code",
   "execution_count": 2,
   "metadata": {
    "scrolled": false
   },
   "outputs": [
    {
     "name": "stderr",
     "output_type": "stream",
     "text": [
      "[2018-05-16 18:42:05,035] Making new env: CarRacing-v0\n"
     ]
    },
    {
     "name": "stdout",
     "output_type": "stream",
     "text": [
      "Track generation: 1208..1514 -> 306-tiles track\n"
     ]
    },
    {
     "data": {
      "application/vnd.jupyter.widget-view+json": {
       "model_id": "35e4d2439f0a4a41b8b802197a4923aa",
       "version_major": 2,
       "version_minor": 0
      },
      "text/html": [
       "<p>Failed to display Jupyter Widget of type <code>HBox</code>.</p>\n",
       "<p>\n",
       "  If you're reading this message in Jupyter Notebook or JupyterLab, it may mean\n",
       "  that the widgets JavaScript is still loading. If this message persists, it\n",
       "  likely means that the widgets JavaScript library is either not installed or\n",
       "  not enabled. See the <a href=\"https://ipywidgets.readthedocs.io/en/stable/user_install.html\">Jupyter\n",
       "  Widgets Documentation</a> for setup instructions.\n",
       "</p>\n",
       "<p>\n",
       "  If you're reading this message in another notebook frontend (for example, a static\n",
       "  rendering on GitHub or <a href=\"https://nbviewer.jupyter.org/\">NBViewer</a>),\n",
       "  it may mean that your frontend doesn't currently support widgets.\n",
       "</p>\n"
      ],
      "text/plain": [
       "HBox(children=(IntProgress(value=0, max=10), HTML(value='')))"
      ]
     },
     "metadata": {},
     "output_type": "display_data"
    },
    {
     "name": "stdout",
     "output_type": "stream",
     "text": [
      "\n",
      "Generated 10 samples.\n"
     ]
    }
   ],
   "source": [
    "env = gym.make('CarRacing-v0')\n",
    "env.seed(42)\n",
    "\n",
    "dataset = []\n",
    "\n",
    "obs = env.reset()\n",
    "for i in tnrange(10):\n",
    "    action = env.action_space.sample()\n",
    "    obs, reward, done, info = env.step(action)\n",
    "    env.render()\n",
    "    if done:\n",
    "        env.reset()\n",
    "    dataset.append(obs / 255)\n",
    "np.random.shuffle(dataset)\n",
    "env.close()\n",
    "print(\"Generated\", len(dataset),\"samples.\")"
   ]
  },
  {
   "cell_type": "code",
   "execution_count": 6,
   "metadata": {},
   "outputs": [
    {
     "name": "stdout",
     "output_type": "stream",
     "text": [
      "(80, 80, 3)\n"
     ]
    },
    {
     "data": {
      "image/png": "[encoded data removed]",
      "text/plain": [
       "<matplotlib.figure.Figure at 0x11f059e80>"
      ]
     },
     "metadata": {},
     "output_type": "display_data"
    }
   ],
   "source": [
    "print(dataset[-1].shape)\n",
    "plt.imshow(dataset[-1][:84])\n",
    "plt.show()"
   ]
  },
  {
   "cell_type": "code",
   "execution_count": 6,
   "metadata": {},
   "outputs": [
    {
     "data": {
      "image/png": "[encoded data removed]",
      "text/plain": [
       "<matplotlib.figure.Figure at 0x123b063c8>"
      ]
     },
     "metadata": {},
     "output_type": "display_data"
    }
   ],
   "source": [
    "import cv2\n",
    "\n",
    "img = dataset[-1][:84]\n",
    "img = cv2.resize(img, dsize=(80, 80))\n",
    "plt.imshow(img)\n",
    "plt.show()"
   ]
  },
  {
   "cell_type": "markdown",
   "metadata": {},
   "source": [
    "## Training\n",
    "Now, using the dataset we have created, we want to train a VAE"
   ]
  },
  {
   "cell_type": "code",
   "execution_count": 7,
   "metadata": {},
   "outputs": [],
   "source": [
    "import pickle"
   ]
  },
  {
   "cell_type": "code",
   "execution_count": 8,
   "metadata": {},
   "outputs": [
    {
     "name": "stdout",
     "output_type": "stream",
     "text": [
      "Dataset with 1000 samples.\n"
     ]
    }
   ],
   "source": [
    "dataset = pickle.load(open('car_dataset.pkl','rb'))\n",
    "print(\"Dataset with\", len(dataset), \"samples.\")"
   ]
  },
  {
   "cell_type": "code",
   "execution_count": 9,
   "metadata": {},
   "outputs": [
    {
     "data": {
      "image/png": "[encoded data removed]",
      "text/plain": [
       "<matplotlib.figure.Figure at 0x103e0b0f0>"
      ]
     },
     "metadata": {},
     "output_type": "display_data"
    },
    {
     "name": "stdout",
     "output_type": "stream",
     "text": [
      "(80, 80, 3)\n"
     ]
    }
   ],
   "source": [
    "plt.imshow(dataset[0])\n",
    "plt.show()\n",
    "print(dataset[0].shape)"
   ]
  },
  {
   "cell_type": "code",
   "execution_count": 20,
   "metadata": {},
   "outputs": [
    {
     "name": "stdout",
     "output_type": "stream",
     "text": [
      "(?, 40, 40, 32) (?, 20, 20, 64) (?, 10, 10, 128) (?, 5, 5, 256) (?, 6400)\n",
      "(?, 5, 5, 256) (?, 10, 10, 128) (?, 20, 20, 64) (?, 40, 40, 32) (?, 80, 80, 3)\n"
     ]
    }
   ],
   "source": [
    "BATCH_SIZE = 32\n",
    "LATENT_SIZE = 32\n",
    "LEARNING_RATE = 0.0005\n",
    "\n",
    "tf.reset_default_graph()\n",
    "\n",
    "# Input image\n",
    "X = tf.placeholder(dtype=tf.float32, shape=(None, 80, 80, 3))\n",
    "# Dropout keep proba\n",
    "keep_prob = tf.placeholder(dtype=tf.float32, shape=(), name='keep_prob')\n",
    "learning_rate = tf.placeholder(dtype=tf.float32, shape=(), name='learning_rate')\n",
    "batch_size = tf.placeholder(dtype=tf.int32, shape=(), name='batch_size')\n",
    "\n",
    "# ENCODER GRAPH\n",
    "with tf.variable_scope(\"encoder\", reuse=None):\n",
    "    conv1 = tf.layers.conv2d(X, filters=32, kernel_size=4, strides=2, padding='same', activation=tf.nn.relu)\n",
    "    drop1 = tf.nn.dropout(conv1, keep_prob)\n",
    "    conv2 = tf.layers.conv2d(drop1, filters=64, kernel_size=4, strides=2, padding='same', activation=tf.nn.relu)\n",
    "    drop2 = tf.nn.dropout(conv2, keep_prob)\n",
    "    conv3 = tf.layers.conv2d(drop2, filters=128, kernel_size=4, strides=2, padding='same', activation=tf.nn.relu)\n",
    "    drop3 = tf.nn.dropout(conv3, keep_prob)\n",
    "    conv4 = tf.layers.conv2d(drop3, filters=256, kernel_size=4, strides=2, padding='same', activation=tf.nn.relu)\n",
    "    drop4 = tf.nn.dropout(conv4, keep_prob)\n",
    "    flat = tf.layers.flatten(drop4)\n",
    "    latent_means = tf.layers.dense(flat, units=LATENT_SIZE)\n",
    "    latent_std = tf.layers.dense(flat, units=LATENT_SIZE)\n",
    "    latent_noise = tf.random_normal(shape=(batch_size, LATENT_SIZE))\n",
    "    latent_vector = latent_means + tf.multiply(latent_std, latent_noise)\n",
    "\n",
    "# DECODER GRAPH\n",
    "with tf.variable_scope(\"decoder\", reuse=None):\n",
    "    deflat = tf.layers.dense(latent_vector, units=flat.shape[1])\n",
    "    deflat4d = tf.reshape(deflat, shape=(-1, drop4.shape[1], drop4.shape[2], drop4.shape[3]))\n",
    "    deconv1 = tf.layers.conv2d_transpose(deflat4d, filters=128, kernel_size=4, strides=2, padding='same', activation=tf.nn.relu)\n",
    "    dedrop1 = tf.nn.dropout(deconv1, keep_prob)\n",
    "    deconv2 = tf.layers.conv2d_transpose(dedrop1, filters=64, kernel_size=4, strides=2, padding='same', activation=tf.nn.relu)\n",
    "    dedrop2 = tf.nn.dropout(deconv2, keep_prob)\n",
    "    deconv3 = tf.layers.conv2d_transpose(dedrop2, filters=32, kernel_size=4, strides=2, padding='same', activation=tf.nn.relu)\n",
    "    dedrop3 = tf.nn.dropout(deconv3, keep_prob)\n",
    "    deconv4 = tf.layers.conv2d_transpose(dedrop3, filters=3, kernel_size=4, strides=2, padding='same', activation=tf.nn.relu)\n",
    "    dedrop4 = tf.nn.dropout(deconv4, keep_prob)\n",
    "    rebuild = tf.reshape(dedrop4, shape=(-1, 80, 80, 3))\n",
    "    \n",
    "# Loss\n",
    "reconstruction_loss = tf.reduce_sum(tf.squared_difference(rebuild, X))\n",
    "reg_loss = tf.reduce_sum(-tf.log(tf.abs(latent_std)) + 0.5 * (tf.square(latent_std) + tf.square(latent_means) - 1))\n",
    "complete_loss = reconstruction_loss + reg_loss\n",
    "\n",
    "# Optimizer\n",
    "optimizer = tf.train.AdamOptimizer(learning_rate).minimize(complete_loss)\n",
    "\n",
    "# Session\n",
    "sess = tf.Session()\n",
    "sess.run(tf.global_variables_initializer())"
   ]
  },
  {
   "cell_type": "code",
   "execution_count": null,
   "metadata": {},
   "outputs": [],
   "source": []
  },
  {
   "cell_type": "code",
   "execution_count": null,
   "metadata": {},
   "outputs": [],
   "source": []
  }
 ],
 "metadata": {
  "kernelspec": {
   "display_name": "Python 3",
   "language": "python",
   "name": "python3"
  },
  "language_info": {
   "codemirror_mode": {
    "name": "ipython",
    "version": 3
   },
   "file_extension": ".py",
   "mimetype": "text/x-python",
   "name": "python",
   "nbconvert_exporter": "python",
   "pygments_lexer": "ipython3",
   "version": "3.6.0"
  }
 },
 "nbformat": 4,
 "nbformat_minor": 2
}
