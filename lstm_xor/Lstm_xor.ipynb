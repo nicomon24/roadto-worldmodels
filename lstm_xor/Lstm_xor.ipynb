{
 "cells": [
  {
   "cell_type": "markdown",
   "metadata": {},
   "source": [
    "# LSTM XOR\n",
    "We want to implement an LSTM-RNN in TF to predict the XOR operation over a sequence of fixed length (for now) of bits.\n",
    "First we need to generate these sequences and to compute the XOR itself.\n",
    "\n",
    "Remarks:\n",
    "- The XOR operation has a non-linear decision hyperplane"
   ]
  },
  {
   "cell_type": "code",
   "execution_count": 78,
   "metadata": {},
   "outputs": [],
   "source": [
    "import tensorflow as tf\n",
    "import numpy as np\n",
    "from tqdm import tnrange\n",
    "import matplotlib.pyplot as plt"
   ]
  },
  {
   "cell_type": "markdown",
   "metadata": {},
   "source": [
    "## Generating sequences\n",
    "We generate a dataset of N sequences of length L. These sequences are bit strings.\n",
    "We also compute the XOR of the sequence directly."
   ]
  },
  {
   "cell_type": "code",
   "execution_count": 190,
   "metadata": {},
   "outputs": [],
   "source": [
    "LENGTH = 10\n",
    "TRAIN_SAMPLES = 10000\n",
    "TEST_SAMPLES = 10000\n",
    "\n",
    "def xor(seq):\n",
    "    return int(sum(seq) % 2 == 1)\n",
    "\n",
    "Xtrain, Ytrain, Xtest, Ytest = [], [], [], []\n",
    "for i in range(TRAIN_SAMPLES):\n",
    "    seq = np.random.randint(0,2,LENGTH)\n",
    "    Xtrain.append(seq)\n",
    "    Ytrain.append(xor(seq))\n",
    "for i in range(TEST_SAMPLES):\n",
    "    seq = np.random.randint(0,2,LENGTH)\n",
    "    Xtest.append(seq)\n",
    "    Ytest.append(xor(seq))"
   ]
  },
  {
   "cell_type": "markdown",
   "metadata": {},
   "source": [
    "## Building the model\n",
    "Now we want to build a model which is able to compute the XOR of the sequence using an LSTM-RNN."
   ]
  },
  {
   "cell_type": "code",
   "execution_count": 220,
   "metadata": {
    "scrolled": false
   },
   "outputs": [],
   "source": [
    "tf.reset_default_graph()\n",
    "\n",
    "input_sequence = tf.placeholder(tf.float32, shape=(None, LENGTH))\n",
    "input_sequence_3d = tf.reshape(input_sequence, (-1, LENGTH, 1))\n",
    "results = tf.placeholder(tf.uint8, shape=(None, ))\n",
    "results_oh = tf.one_hot(results, 2)\n",
    "lstm = tf.contrib.rnn.BasicLSTMCell(2)\n",
    "\n",
    "outputs, states = tf.nn.dynamic_rnn(lstm, input_sequence_3d, dtype=tf.float32)\n",
    "\n",
    "final_output = outputs[:, -1]\n",
    "predictions = tf.argmax(final_output, axis=1)\n",
    "\n",
    "loss = tf.losses.softmax_cross_entropy(results_oh, final_output)\n",
    "train_op = tf.train.GradientDescentOptimizer(0.01).minimize(loss)\n",
    "\n",
    "sess = tf.Session()\n",
    "sess.run(tf.global_variables_initializer())"
   ]
  },
  {
   "cell_type": "code",
   "execution_count": 221,
   "metadata": {
    "scrolled": false
   },
   "outputs": [
    {
     "data": {
      "application/vnd.jupyter.widget-view+json": {
       "model_id": "de25bec3ecbd426d8350c2bc1d540127",
       "version_major": 2,
       "version_minor": 0
      },
      "text/plain": [
       "HBox(children=(IntProgress(value=0, max=20), HTML(value='')))"
      ]
     },
     "metadata": {},
     "output_type": "display_data"
    },
    {
     "name": "stdout",
     "output_type": "stream",
     "text": [
      "\n"
     ]
    }
   ],
   "source": [
    "BATCH_SIZE = 64\n",
    "\n",
    "losses = []\n",
    "for epoch in tnrange(20):\n",
    "    _losses = []\n",
    "    for batch_index in range(0, len(Xtrain), BATCH_SIZE):\n",
    "        Xbatch = Xtrain[batch_index:batch_index + BATCH_SIZE]\n",
    "        Ybatch = Ytrain[batch_index:batch_index + BATCH_SIZE]\n",
    "        _loss, _fout, _ = sess.run([loss, final_output, train_op], feed_dict={input_sequence: Xbatch, results: Ybatch})\n",
    "        _losses.append(_loss)\n",
    "    losses.append(np.mean(_losses))"
   ]
  },
  {
   "cell_type": "code",
   "execution_count": 222,
   "metadata": {},
   "outputs": [
    {
     "data": {
      "image/png": "[encoded data removed]",
      "text/plain": [
       "<Figure size 432x288 with 1 Axes>"
      ]
     },
     "metadata": {},
     "output_type": "display_data"
    }
   ],
   "source": [
    "plt.plot(losses)\n",
    "plt.show()"
   ]
  },
  {
   "cell_type": "markdown",
   "metadata": {},
   "source": [
    "## Testing things out\n",
    "We now compare the accuracy of the model on the train set and test set"
   ]
  },
  {
   "cell_type": "code",
   "execution_count": 204,
   "metadata": {},
   "outputs": [
    {
     "name": "stdout",
     "output_type": "stream",
     "text": [
      "0.505\n"
     ]
    }
   ],
   "source": [
    "acc = 0\n",
    "for batch_index in range(0, len(Xtest), BATCH_SIZE):\n",
    "    preds = sess.run(predictions, feed_dict={input_sequence: Xtest[batch_index:batch_index+BATCH_SIZE]})\n",
    "    acc += sum(abs(preds - Ytest[batch_index:batch_index+BATCH_SIZE]))\n",
    "print(acc / len(Ytest))"
   ]
  },
  {
   "cell_type": "code",
   "execution_count": 200,
   "metadata": {},
   "outputs": [
    {
     "name": "stdout",
     "output_type": "stream",
     "text": [
      "[1 0 0 0 0 0 0 0 0 0 0 0 0 0 1 0 0 1 0 0 0 0 0 0 0 0 0 0 1 1]\n",
      "[1, 0, 0, 1, 1, 0, 1, 0, 0, 0, 0, 1, 1, 0, 0, 1, 0, 0, 1, 0, 1, 1, 0, 0, 0, 0, 1, 0, 0, 0]\n",
      "[0, 0, 0, 1, 1, 0, 1, 0, 0, 0, 0, 1, 1, 0, 1, 1, 0, 1, 1, 0, 1, 1, 0, 0, 0, 0, 1, 0, 1, 1]\n"
     ]
    }
   ],
   "source": [
    "s, e = 0, 30\n",
    "preds = sess.run(predictions, feed_dict={input_sequence: Xtest[s:e]})\n",
    "print(abs(preds-Ytest[s:e]))\n",
    "print(list(preds))\n",
    "print(Ytest[s:e])"
   ]
  },
  {
   "cell_type": "code",
   "execution_count": 117,
   "metadata": {},
   "outputs": [
    {
     "data": {
      "text/plain": [
       "[0, 1, 1, 0, 0, 1, 1, 0, 0, 1, 1, 0, 0, 0, 0, 0]"
      ]
     },
     "execution_count": 117,
     "metadata": {},
     "output_type": "execute_result"
    }
   ],
   "source": [
    "Ybatch"
   ]
  },
  {
   "cell_type": "code",
   "execution_count": null,
   "metadata": {},
   "outputs": [],
   "source": []
  },
  {
   "cell_type": "code",
   "execution_count": null,
   "metadata": {},
   "outputs": [],
   "source": []
  }
 ],
 "metadata": {
  "kernelspec": {
   "display_name": "Python 3",
   "language": "python",
   "name": "python3"
  },
  "language_info": {
   "codemirror_mode": {
    "name": "ipython",
    "version": 3
   },
   "file_extension": ".py",
   "mimetype": "text/x-python",
   "name": "python",
   "nbconvert_exporter": "python",
   "pygments_lexer": "ipython3",
   "version": "3.6.3"
  }
 },
 "nbformat": 4,
 "nbformat_minor": 2
}
